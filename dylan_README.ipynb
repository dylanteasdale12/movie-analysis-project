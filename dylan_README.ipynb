{
 "cells": [
  {
   "cell_type": "markdown",
   "metadata": {},
   "source": [
    "# Analysis of Various Characteristics of Best Films in Recent Times \n"
   ]
  },
  {
   "cell_type": "markdown",
   "metadata": {},
   "source": [
    "## Table of Contents  \n",
    "\n",
    "* [General Info](#GeneralInfo)\n",
    "\n",
    " * [Technologies](#Technologies)\n",
    "  \n",
    "  * [Data Overview](#DataOverview)\n",
    "\n",
    "\n",
    "\n",
    "* [Questions, Insights & Recommendations](#Questions,Insights&Recommendations)\n",
    "\n",
    "\n",
    "* [Further Investigation](#FurtherInvestigation)\n",
    "\n",
    "\n",
    "* [Conclusion](#Conclusion)\n",
    "\n",
    "<a name=\"General Info\"/>\n",
    "<a name=\"Technologies\"/>\n",
    "<a name=\"Data Overview\"/>\n",
    "<a name=\"Questions, Insights & Recommendations\"/>\n",
    "<a name=\"Further Investigation\"/>\n",
    "<a name=\"Conclusion\"/>"
   ]
  },
  {
   "cell_type": "markdown",
   "metadata": {},
   "source": [
    "## General Info\n"
   ]
  },
  {
   "cell_type": "markdown",
   "metadata": {},
   "source": [
    "The project was assigned as the final part of the Module 1 in Flatiron School's Data Science Program. The brief is detailed below:\n",
    "\n",
    "\"Microsoft sees all the big companies creating original video content, and they want to get in on the fun. They have decided to create a new movie studio, but the problem is they don’t know anything about creating movies. They have hired you to help them better understand the movie industry. Your team is charged with doing data analysis and creating a presentation that explores what type of films are currently doing the best at the box office. You must then translate those findings into actionable insights that the CEO can use when deciding what type of films they should be creating.\""
   ]
  },
  {
   "cell_type": "markdown",
   "metadata": {},
   "source": [
    "The project centers around the hypothetical scenario in which Microsoft is entering the movie production business. As a Data Scientist I have been tasked with analysing public movie databases (Rotten Tomatoes, IMDB, TMDB, and Box Office Mojo) and determining what characteristics of films make them do\"best\" at box office. It was our decision to use profit as the predominant indicator of success. We explored several characteristic's impact to film's box office grossing and profit."
   ]
  },
  {
   "cell_type": "markdown",
   "metadata": {},
   "source": [
    "![alt text here](https://chinalawblog.lexblogplatform.com/wp-content/uploads/sites/110/2016/03/film-money.jpg)\n",
    "\n"
   ]
  },
  {
   "cell_type": "markdown",
   "metadata": {},
   "source": [
    "### Technologies "
   ]
  },
  {
   "cell_type": "markdown",
   "metadata": {},
   "source": [
    "This project was created using the following languages and libraries. An environment with the correct versions of the following allows for re-production and improvement on this project.\n",
    "\n",
    "* Python version: 3.6.9\n",
    " * glob\n",
    " * os\n",
    " \n",
    " \n",
    "* Matplotlib version: 3.1.1\n",
    "\n",
    "\n",
    "* Pandas version: 3.1.1\n",
    "\n",
    "\n",
    "* Numpy version: 1.16.5\n",
    "\n",
    "\n",
    "* Seaborn version: 0.9.0\n",
    "\n"
   ]
  },
  {
   "cell_type": "markdown",
   "metadata": {},
   "source": [
    "### Data Overview"
   ]
  },
  {
   "attachments": {},
   "cell_type": "markdown",
   "metadata": {},
   "source": [
    "The datasets included a wide range of related data as below in .csv files:\n",
    "\n",
    "* Box Office Mojo:\n",
    "\n",
    "   - bom.movie_gross.csv.gz\n",
    "  \n",
    "  \n",
    "* IMDB:          <img align=\"right\" width=\"300\" height=\"300\" src=\"https://upload.wikimedia.org/wikipedia/commons/thumb/6/69/IMDB_Logo_2016.svg/1200px-IMDB_Logo_2016.svg.png\">\n",
    "\n",
    "  - imdb.title.crew.csv.gz\n",
    "  - imdb.title.akas.csv.gz\n",
    "  - imdb.title.ratings.csv.gz\n",
    "  - imdb.name.basics.csv.gz\n",
    "  - imdb.title.basics.csv.gz\n",
    "  - imdb.title.principals.csv.gz\n",
    "  \n",
    "  \n",
    "* TMDB:\n",
    "\n",
    "  - tmdb.movies.csv.gz\n",
    "  \n",
    "  \n",
    "* The Numbers:\n",
    "\n",
    "  - tn.movie_budgets.csv.gz\n",
    "  \n",
    "  \n",
    " "
   ]
  },
  {
   "cell_type": "markdown",
   "metadata": {},
   "source": [
    "After initial analysis and some data cleaning, the datasets which we used for our analysis were:\n",
    "\n",
    "* tn.movie_budgets.csv.gz for __financial & studio data__\n",
    "\n",
    "\n",
    "* bom.movie_gross.csv.gz for __financial data__\n",
    "\n",
    "\n",
    "* imdb.title.basics.csv.gz for __genre data__"
   ]
  },
  {
   "cell_type": "markdown",
   "metadata": {},
   "source": [
    "## Questions, Insights & Recommendations"
   ]
  },
  {
   "cell_type": "markdown",
   "metadata": {},
   "source": [
    "### Don't discount Genre, if you're looking to make money"
   ]
  },
  {
   "cell_type": "markdown",
   "metadata": {},
   "source": [
    "There are many types of genre, each averaging a wide distribution of profit since 2010. Based on the data available, the top 5 averaging films were Adventure, War, Musical, Fantasy and Family. Interestingly, Adventure films tend to average twice as much profit to Thriller, Animation and Documentary. The average of profit was taken to account for the number of films produced in each genre."
   ]
  },
  {
   "cell_type": "markdown",
   "metadata": {},
   "source": [
    "![alt text here](dylan_images/profit_by_genre.png)"
   ]
  },
  {
   "cell_type": "markdown",
   "metadata": {},
   "source": [
    "With further analysis of the data, it is apparent that there are many outliers affecting the results of the data. This is shown below with a Boxplot producing some very large outliers. Interestingly, Adventure and Animation have the most dispersed data. If we were to base our profit on the median, War would be the best bet."
   ]
  },
  {
   "cell_type": "markdown",
   "metadata": {},
   "source": [
    "![alt text here](dylan_images/genre_vs_box_new.png)"
   ]
  },
  {
   "cell_type": "markdown",
   "metadata": {},
   "source": [
    "Taking a look at the top 12 genres over time, we are able to paint a picture of the total amount of profit produced by each genre over the years (2010 - 2018). Action has produced the most amount Profit over the years the majority of the time. This graph could be considered a reflection of whether genres have been increasing or decreasing in popularity in recent times. From 2016 - 2018, Action films have been producing a steep increase in Total Profit."
   ]
  },
  {
   "cell_type": "markdown",
   "metadata": {},
   "source": [
    "![alt text here](dylan_images/profit_top12.png)"
   ]
  },
  {
   "cell_type": "markdown",
   "metadata": {},
   "source": [
    "### You have plenty of competition"
   ]
  },
  {
   "cell_type": "markdown",
   "metadata": {},
   "source": [
    "The movie production industry is a competitive arena, and to be the best you have to beat the best. We've taken a deeper dive into which studios will be our most successful competitors. Based on the data available, Walt Disney has been a leader in total gross production, followed by Universal Studios and Warner Brothers.\n"
   ]
  },
  {
   "cell_type": "markdown",
   "metadata": {},
   "source": [
    "| Abbreviation     | Studio                                    |\n",
    "|-----------------|-------------------------------------------|\n",
    "|        Uni.     | Universal Pictures                        |\n",
    "| Fox             |        20th Century Fox                   |\n",
    "| WB              | Warner Bros.                              |\n",
    "| BV              | Walt Disney Studios                       |\n",
    "| Sum.            |         Summit   Entertainment            |\n",
    "| Sony            |        Sony Pictures Motion Picture Group |\n",
    "| Par.            |        Paramount Pictures                 |\n",
    "| P/DW            |        DreamWorks Pictures                |\n",
    "| WB (NL)         | New Line Cinema                           |\n",
    "| LGF             |        Lionsgate Films                    |"
   ]
  },
  {
   "attachments": {},
   "cell_type": "markdown",
   "metadata": {},
   "source": [
    "![alt text here](dylan_images/top_7n.png)"
   ]
  },
  {
   "cell_type": "markdown",
   "metadata": {},
   "source": [
    "Below we have considered the types and number of films that our competitors are making. Universal Studios and 20th Century Fox have produced the largest amount leading films by gross, they're focus has been on Action and Drama. All through the list, there is a common theme of the leaders production the films in the genres Action, Drama and Comedy."
   ]
  },
  {
   "cell_type": "markdown",
   "metadata": {},
   "source": [
    "                   The Types of Films Industry Leaders are Making"
   ]
  },
  {
   "cell_type": "markdown",
   "metadata": {},
   "source": [
    "![alt text here](dylan_images/genre_studio.png)"
   ]
  },
  {
   "cell_type": "markdown",
   "metadata": {},
   "source": [
    "### Insight 3 (to be completed)"
   ]
  },
  {
   "cell_type": "markdown",
   "metadata": {},
   "source": []
  },
  {
   "cell_type": "markdown",
   "metadata": {},
   "source": [
    "## Further Investigation"
   ]
  },
  {
   "cell_type": "markdown",
   "metadata": {},
   "source": [
    "### Investigate further into Film Finances"
   ]
  },
  {
   "cell_type": "markdown",
   "metadata": {},
   "source": []
  },
  {
   "cell_type": "markdown",
   "metadata": {},
   "source": [
    "### Top Grossing Genres of Studios"
   ]
  },
  {
   "cell_type": "markdown",
   "metadata": {},
   "source": []
  },
  {
   "cell_type": "markdown",
   "metadata": {},
   "source": [
    "### Understand The Success Metric"
   ]
  },
  {
   "cell_type": "markdown",
   "metadata": {},
   "source": []
  },
  {
   "cell_type": "markdown",
   "metadata": {},
   "source": [
    "## Conclusion"
   ]
  },
  {
   "cell_type": "markdown",
   "metadata": {},
   "source": []
  },
  {
   "cell_type": "markdown",
   "metadata": {},
   "source": [
    "**The format for the readme should be as follows**:\n",
    "\n",
    "* **Goals and Objectives**:\n",
    "    Briefly describe the goal of the project and the datasets you had access to. \n",
    "\n",
    "* **For each question**:\n",
    "    1. Describe the EDA done to get the data, include any table joins performed and any sort of cleaning.\n",
    "    2. Note down any findings/recommendations/future work you may have\n",
    "\n",
    "* Command to convert jupyter notebook to markdown file:\n",
    "    ```jupyter nbconvert --to markdown notebookname.ipynb```\n",
    "    \n",
    "* "
   ]
  }
 ],
 "metadata": {
  "kernelspec": {
   "display_name": "Python 3",
   "language": "python",
   "name": "python3"
  },
  "language_info": {
   "codemirror_mode": {
    "name": "ipython",
    "version": 3
   },
   "file_extension": ".py",
   "mimetype": "text/x-python",
   "name": "python",
   "nbconvert_exporter": "python",
   "pygments_lexer": "ipython3",
   "version": "3.6.9"
  },
  "toc": {
   "base_numbering": 1,
   "nav_menu": {},
   "number_sections": true,
   "sideBar": true,
   "skip_h1_title": false,
   "title_cell": "Table of Contents",
   "title_sidebar": "Contents",
   "toc_cell": false,
   "toc_position": {},
   "toc_section_display": true,
   "toc_window_display": false
  },
  "varInspector": {
   "cols": {
    "lenName": 16,
    "lenType": 16,
    "lenVar": 40
   },
   "kernels_config": {
    "python": {
     "delete_cmd_postfix": "",
     "delete_cmd_prefix": "del ",
     "library": "var_list.py",
     "varRefreshCmd": "print(var_dic_list())"
    },
    "r": {
     "delete_cmd_postfix": ") ",
     "delete_cmd_prefix": "rm(",
     "library": "var_list.r",
     "varRefreshCmd": "cat(var_dic_list()) "
    }
   },
   "types_to_exclude": [
    "module",
    "function",
    "builtin_function_or_method",
    "instance",
    "_Feature"
   ],
   "window_display": false
  }
 },
 "nbformat": 4,
 "nbformat_minor": 2
}
